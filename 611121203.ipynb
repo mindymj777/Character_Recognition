{
 "cells": [
  {
   "cell_type": "code",
   "execution_count": 253,
   "metadata": {},
   "outputs": [],
   "source": [
    "import numpy as np\n",
    "import pandas as pd\n",
    "import torch\n",
    "import os\n",
    "\n",
    "import matplotlib.pyplot as plt\n",
    "import torchvision.transforms as transforms\n",
    "from torch.utils.data import DataLoader,random_split,Dataset\n",
    "import torch.nn as nn\n",
    "from torchsummary import summary"
   ]
  },
  {
   "attachments": {},
   "cell_type": "markdown",
   "metadata": {},
   "source": [
    "測試cuda是否可用"
   ]
  },
  {
   "cell_type": "code",
   "execution_count": 254,
   "metadata": {},
   "outputs": [
    {
     "data": {
      "text/plain": [
       "True"
      ]
     },
     "execution_count": 254,
     "metadata": {},
     "output_type": "execute_result"
    }
   ],
   "source": [
    "torch.cuda.is_available()"
   ]
  },
  {
   "attachments": {},
   "cell_type": "markdown",
   "metadata": {},
   "source": [
    "讀取training data 與 test data 、建立transform"
   ]
  },
  {
   "cell_type": "code",
   "execution_count": 255,
   "metadata": {},
   "outputs": [],
   "source": [
    "train_path=r\"C:/Users/MJ/Desktop/Character_Recognition/train_in.csv\"\n",
    "test_path=r\"C:/Users/MJ/Desktop/Character_Recognition/test_in.csv\""
   ]
  },
  {
   "attachments": {},
   "cell_type": "markdown",
   "metadata": {},
   "source": [
    "建立Dataset class"
   ]
  },
  {
   "cell_type": "code",
   "execution_count": 256,
   "metadata": {},
   "outputs": [],
   "source": [
    "class NumberDataset(Dataset):\n",
    "    def __init__(self,data_path,seq_length,is_train=True):\n",
    "\n",
    "        super().__init__()\n",
    "        self.data=pd.read_csv(data_path)\n",
    "        self.data=self.data.drop('Serial No.',axis=1)\n",
    "        self.data=self.data.values\n",
    "        self.data=torch.tensor(self.data,dtype=torch.float32)\n",
    "        self.label=pd.read_csv(\"C:/Users/MJ/Desktop/Character_Recognition/train_out.csv\")\n",
    "        self.seq_length = seq_length\n",
    "        self.is_train=is_train\n",
    "        \n",
    "    def __len__(self):\n",
    "        return len(self.data)\n",
    "    \n",
    "    \n",
    "    def __getitem__(self,idx):\n",
    "        X=self.data[idx].view(self.seq_length,2)\n",
    "\n",
    "        if(self.is_train==True):\n",
    "            label=torch.tensor(self.label['Label'].values)\n",
    "            y=label[idx]\n",
    "            return X,y\n",
    "        else:\n",
    "            return X\n",
    "\n",
    "        "
   ]
  },
  {
   "attachments": {},
   "cell_type": "markdown",
   "metadata": {},
   "source": [
    "將data切成training data 和validation data，再將兩者與test data 裝成dataset"
   ]
  },
  {
   "cell_type": "code",
   "execution_count": 257,
   "metadata": {},
   "outputs": [],
   "source": [
    "dataset=NumberDataset(train_path,8,is_train=True)\n",
    "trainset, validset = random_split(dataset, [0.9, 0.1])\n",
    "train_size=len(trainset)\n",
    "valid_size=len(validset)\n",
    "testset=NumberDataset(test_path,8,is_train=False)"
   ]
  },
  {
   "attachments": {},
   "cell_type": "markdown",
   "metadata": {},
   "source": [
    "將dataset裝進dataloader"
   ]
  },
  {
   "cell_type": "code",
   "execution_count": 258,
   "metadata": {},
   "outputs": [],
   "source": [
    "train_dl=DataLoader(trainset,shuffle=True, batch_size=500)\n",
    "valid_dl=DataLoader(validset,shuffle=True, batch_size=500)\n",
    "test_dl=DataLoader(testset,shuffle=False, batch_size=500)"
   ]
  },
  {
   "attachments": {},
   "cell_type": "markdown",
   "metadata": {},
   "source": [
    "建立model class"
   ]
  },
  {
   "cell_type": "code",
   "execution_count": 259,
   "metadata": {},
   "outputs": [],
   "source": [
    "class RNNClassifier(nn.Module):\n",
    "    def __init__(self, input_size, hidden_size1,hidden_size2, output_size):\n",
    "        super().__init__()\n",
    "        self.hidden_size1 = hidden_size1\n",
    "       \n",
    "        self.rnn = nn.RNN(input_size, hidden_size1, batch_first=True, nonlinearity='relu')\n",
    "        self.fc1 = nn.Linear(hidden_size1, hidden_size2)  # 新增的線性層\n",
    "        self.relu=nn.ReLU(inplace=True)\n",
    "        self.fc2 = nn.Linear(hidden_size2, output_size)\n",
    "\n",
    "    def forward(self, x):\n",
    "        batch_size = x.size(0)\n",
    "\n",
    "        # 初始化隱藏狀態\n",
    "        hidden = torch.zeros(1, batch_size, self.hidden_size1, dtype=x.dtype).to(x.device)\n",
    "        out, _ = self.rnn(x, hidden)\n",
    "\n",
    "        # 提取最後一個時間步的輸出並進行分類\n",
    "        out = self.fc1(out[:, -1, :])\n",
    "        out=self.relu(out)\n",
    "        out = self.fc2(out)\n",
    "        return out"
   ]
  },
  {
   "attachments": {},
   "cell_type": "markdown",
   "metadata": {},
   "source": [
    "設定訓練的參數"
   ]
  },
  {
   "cell_type": "code",
   "execution_count": 260,
   "metadata": {},
   "outputs": [],
   "source": [
    "epochs=30\n",
    "model=RNNClassifier(2,128,100,10)\n",
    "model=model.cuda()  #將模型放到gpu上\n",
    "criterion = nn.CrossEntropyLoss()\n",
    "optim = torch.optim.Adam(model.parameters(), lr=1e-3)"
   ]
  },
  {
   "attachments": {},
   "cell_type": "markdown",
   "metadata": {},
   "source": [
    "train model和使用validation data評估model"
   ]
  },
  {
   "cell_type": "code",
   "execution_count": 261,
   "metadata": {},
   "outputs": [],
   "source": [
    "train_losses = []\n",
    "train_accu = []\n",
    "val_losses=[]\n",
    "val_accu = []\n",
    "\n",
    "for epoch in range(epochs):\n",
    "        model.train()\n",
    "        train_loss=0\n",
    "        accu=0\n",
    "        ###################\n",
    "        # train the model #\n",
    "        ###################\n",
    "        for data, target in train_dl:\n",
    "                \n",
    "                optim.zero_grad()\n",
    "                data,target=data.cuda(),target.cuda()  #將data、target放到gpu上\n",
    "\n",
    "                out = model(data)\n",
    "                _, y_pred_tag = torch.max(out, dim = 1)  \n",
    "\n",
    "                loss = criterion(out, target)\n",
    "                loss.backward()\n",
    "                \n",
    "                optim.step()\n",
    "\n",
    "                train_loss += loss.item()*data.size(0)  #loss.item is batch loss mean\n",
    "                correct=torch.sum(y_pred_tag == target).item()  #sum 預測正確的次數\n",
    "                accu += correct \n",
    "                \n",
    "\n",
    "        train_loss=train_loss/train_size              # 1 epoch loss mean \n",
    "        accu=accu/train_size                          # 1 epoch accuracy mean\n",
    "        train_losses.append(train_loss)\n",
    "        train_accu.append(accu)\n",
    "\n",
    "\n",
    "        ######################    \n",
    "        # validate the model #\n",
    "        ######################\n",
    "        val_loss = 0\n",
    "        accu = 0\n",
    "\n",
    "        with torch.no_grad():\n",
    "                model.eval()   \n",
    "\n",
    "                for data, target in valid_dl:\n",
    "\n",
    "                        data,target=data.cuda(),target.cuda()\n",
    "                        out= model(data)\n",
    "                        _, y_pred_tag = torch.max(out, dim = 1)\n",
    "                        loss = criterion(out, target)\n",
    "\n",
    "                        val_loss += loss.item()*data.size(0)\n",
    "                        correct=torch.sum(y_pred_tag == target).item()\n",
    "                        accu += correct      \n",
    "\n",
    "                val_loss=val_loss/valid_size\n",
    "                accu=accu/valid_size\n",
    "\n",
    "                val_losses.append(val_loss)\n",
    "                val_accu.append(accu)\n",
    "\n",
    "                "
   ]
  },
  {
   "attachments": {},
   "cell_type": "markdown",
   "metadata": {},
   "source": [
    "將每個epoch的 Accuracy 和 Loss平均值畫出"
   ]
  },
  {
   "cell_type": "code",
   "execution_count": 262,
   "metadata": {},
   "outputs": [
    {
     "data": {
      "image/png": "[encoded data removed]",
      "text/plain": [
       "<Figure size 640x480 with 1 Axes>"
      ]
     },
     "metadata": {},
     "output_type": "display_data"
    }
   ],
   "source": [
    "plt.plot(train_accu,'-o')\n",
    "plt.plot(val_accu,'-o')\n",
    "\n",
    "plt.xlabel('epoch')\n",
    "plt.ylabel('accuracy')\n",
    "plt.legend(['Train','Valid'])\n",
    "plt.title('Train vs Valid Accuracy')\n",
    "\n",
    "plt.show()"
   ]
  },
  {
   "cell_type": "code",
   "execution_count": 263,
   "metadata": {},
   "outputs": [
    {
     "data": {
      "image/png": "[encoded data removed]",
      "text/plain": [
       "<Figure size 640x480 with 1 Axes>"
      ]
     },
     "metadata": {},
     "output_type": "display_data"
    }
   ],
   "source": [
    "plt.plot(train_losses,'--')\n",
    "plt.plot(val_losses,'--')\n",
    "plt.xlabel('epoch')\n",
    "plt.ylabel('Loss')\n",
    "plt.legend(['Train','Valid'])\n",
    "plt.title('Train vs Valid Loss')\n",
    "\n",
    "plt.show()"
   ]
  },
  {
   "attachments": {},
   "cell_type": "markdown",
   "metadata": {},
   "source": [
    "將test data丟進模型預測"
   ]
  },
  {
   "cell_type": "code",
   "execution_count": 264,
   "metadata": {},
   "outputs": [],
   "source": [
    "model.eval()\n",
    "\n",
    "output=[]\n",
    "with torch.no_grad():\n",
    "    for data in test_dl:\n",
    "        data=data.cuda()\n",
    "        out = model(data)\n",
    "        _, y_pred_tag = torch.max(out, dim = 1)\n",
    "        output.extend(y_pred_tag.cpu().numpy().tolist())\n"
   ]
  },
  {
   "attachments": {},
   "cell_type": "markdown",
   "metadata": {},
   "source": [
    "將預測結果寫成csv檔，並存起來"
   ]
  },
  {
   "cell_type": "code",
   "execution_count": 265,
   "metadata": {},
   "outputs": [],
   "source": [
    "sample_submission=pd.read_csv(r\"C:/Users/MJ/Desktop/Character_Recognition/sample_truth.csv\")\n",
    "sample_submission['Label']=output\n",
    "sample_submission.to_csv(r\"C:/Users/MJ/Desktop/Character_Recognition/sample_truth.csv\",index=False)"
   ]
  }
 ],
 "metadata": {
  "kernelspec": {
   "display_name": "MJ",
   "language": "python",
   "name": "python3"
  },
  "language_info": {
   "codemirror_mode": {
    "name": "ipython",
    "version": 3
   },
   "file_extension": ".py",
   "mimetype": "text/x-python",
   "name": "python",
   "nbconvert_exporter": "python",
   "pygments_lexer": "ipython3",
   "version": "3.10.6"
  },
  "orig_nbformat": 4
 },
 "nbformat": 4,
 "nbformat_minor": 2
}
